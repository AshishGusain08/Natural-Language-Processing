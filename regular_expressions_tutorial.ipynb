{
 "cells": [
  {
   "cell_type": "code",
   "execution_count": 1,
   "metadata": {},
   "outputs": [
    {
     "data": {
      "text/plain": [
       "'/Users/ag056210/Documents/tutorials'"
      ]
     },
     "execution_count": 1,
     "metadata": {},
     "output_type": "execute_result"
    }
   ],
   "source": [
    "import pandas as pd\n",
    "import re\n",
    "import os\n",
    "os.getcwd()"
   ]
  },
  {
   "cell_type": "code",
   "execution_count": 2,
   "metadata": {},
   "outputs": [],
   "source": [
    "fh=open(\"/Users/ag056210/Documents/tutorials/fraudulent-email-corpus/test_emails.txt\",\"r\").read()\n",
    "\n",
    "#/Users/ag056210/Documents/tutorials/fraudulent-email-corpus"
   ]
  },
  {
   "cell_type": "code",
   "execution_count": 3,
   "metadata": {},
   "outputs": [
    {
     "data": {
      "text/plain": [
       "'From r  Wed Oct 30 21:41:56 2002\\nReturn-Path: <james_ngola2002@maktoob.com>\\nX-Sieve: cmu-sieve 2.0\\nReturn-Path: <james_ngola2002@maktoob.com>\\nMessage-Id: <200210310241.g9V2fNm6028281@cs.CU>\\nFrom: \"MR. JAMES NGOLA.\" <james_ngola2002@maktoob.com>\\nReply-To: james_ngola2002@maktoob.com\\nTo: webmaster@aclweb.org\\nDate: Thu, 31 Oct 2002 02:38:20 +0000\\nSubject: URGENT BUSINESS ASSISTANCE AND PARTNERSHIP\\nX-Mailer: Microsoft Outlook Express 5.00.2919.6900 DM\\nMIME-Version: 1.0\\nContent-Type: text/plain; charset=\"us-ascii\"\\nContent-Transfer-Encoding: 8bit\\nX-MIME-Autoconverted: from quoted-printable to 8bit by sideshowmel.si.UM id g9V2foW24311\\nStatus: O\\n\\nFROM:MR. JAMES NGOLA.\\nCONFIDENTIAL TEL: 233-27-587908.\\nE-MAIL: (james_ngola2002@maktoob.com).\\n\\nURGENT BUSINESS ASSISTANCE AND PARTNERSHIP.\\n\\n\\nDEAR FRIEND,\\n\\nI AM ( DR.) JAMES NGOLA, THE PERSONAL ASSISTANCE TO THE LATE CONGOLESE (PRESIDENT LAURENT KABILA) WHO WAS ASSASSINATED BY HIS BODY GUARD ON 16TH JAN. 2001.\\n\\n\\nTHE INCIDENT OCCURRED IN OUR PRESENCE WHILE WE WERE HOLDING MEETING WITH HIS EXCELLENCY OVER THE FINANCIAL RETURNS FROM THE DIAMOND SALES IN THE AREAS CONTROLLED BY (D.R.C.) DEMOCRATIC REPUBLIC OF CONGO FORCES AND THEIR FOREIGN ALLIES ANGOLA AND ZIMBABWE, HAVING RECEIVED THE PREVIOUS DAY (USD$100M) ONE HUNDRED MILLION UNITED STATES DOLLARS, CASH IN THREE DIPLOMATIC BOXES ROUTED THROUGH ZIMBABWE.\\n\\nMY PURPOSE OF WRITING YOU THIS LETTER IS TO SOLICIT FOR YOUR ASSISTANCE AS TO BE A COVER TO THE FUND AND ALSO COLLABORATION IN MOVING THE SAID FUND INTO YOUR BANK ACCOUNT THE SUM OF (USD$25M) TWENTY FIVE MILLION UNITED STATES DOLLARS ONLY, WHICH I DEPOSITED WITH A SECURITY COMPANY IN GHANA, IN A DIPLOMATIC BOX AS GOLDS WORTH (USD$25M) TWENTY FIVE MILLION UNITED STATES DOLLARS ONLY FOR SAFE KEEPING IN A SECURITY VAULT FOR ANY FURTHER INVESTMENT PERHAPS IN YOUR COUNTRY. \\n\\nYOU WERE INTRODUCED TO ME BY A RELIABLE FRIEND OF MINE WHO IS A TRAVELLER,AND ALSO A MEMBER OF CHAMBER OF COMMERCE AS A RELIABLE AND TRUSTWORTHY PERSON WHOM I CAN RELY ON AS FOREIGN PARTNER, EVEN THOUGH THE NATURE OF THE TRANSACTION WAS NOT REVEALED TO HIM FOR SECURITY REASONS.\\n\\n\\nTHE (USD$25M) WAS PART OF A PROCEEDS FROM DIAMOND TRADE MEANT FOR THE LATE PRESIDENT LAURENT KABILA WHICH WAS DELIVERED THROUGH ZIMBABWE IN DIPLOMATIC BOXES. THE BOXES WERE KEPT UNDER MY CUSTODY BEFORE THE SAD EVENT THAT TOOK THE LIFE OF (MR. PRESIDENT).THE CONFUSION THAT ENSUED AFTER THE ASSASSINATION AND THE SPORADIC SHOOTING AMONG THE FACTIONS, I HAVE TO RUN AWAY FROM THE COUNTRY FOR MY DEAR LIFE AS I AM NOT A SOLDIER BUT A CIVIL SERVANT I CROSSED RIVER CONGO TO OTHER SIDE OF CONGO LIBREVILLE FROM THERE I MOVED TO THE THIRD COUNTRY GHANA WHERE I AM PRESENTLY TAKING REFUGE. \\n\\nAS A MATTER OF FACT, WHAT I URGENTLY NEEDED FROM YOU IS YOUR ASSISTANCE IN MOVING THIS MONEY INTO YOUR ACCOUNT IN YOUR COUNTRY FOR INVESTMENT WITHOUT RAISING EYEBROW. FOR YOUR ASSISTANCE I WILL GIVE YOU 20% OF THE TOTAL SUM AS YOUR OWN SHARE WHEN THE MONEY GETS TO YOUR ACCOUNT, WHILE 75% WILL BE FOR ME, OF WHICH WITH YOUR KIND ADVICE I HOPE TO INVEST IN PROFITABLE VENTURE IN YOUR COUNTRY IN OTHER TO SETTLE DOWN FOR MEANINGFUL LIFE, AS I AM TIRED OF LIVING IN A WAR ENVIRONMENT. \\n\\nTHE REMAINING 5% WILL BE USED TO OFFSET ANY COST INCURRED IN THE CAUSE OF MOVING THE MONEY TO YOUR ACCOUNT. IF THE PROPOSAL IS ACCEPTABLE TO YOU PLEASE CONTACT ME IMMEDIATELY THROUGH THE ABOVE TELEPHONE AND E-MAIL, TO ENABLE ME ARRANGE FACE TO FACE MEETING WITH YOU IN GHANA FOR THE CLEARANCE OF THE FUNDS BEFORE TRANSFRING IT TO YOUR BANK ACCOUNT AS SEEING IS BELIEVING. \\n\\nFINALLY, IT IS IMPORTANT ALSO THAT I LET YOU UNDERSTAND THAT THERE IS NO RISK INVOLVED WHATSOEVER AS THE MONEY HAD NO RECORD IN KINSHASA FOR IT WAS MEANT FOR THE PERSONAL USE OF (MR. PRESIDEND ) BEFORE THE NEFARIOUS INCIDENT OCCURRED, AND ALSO I HAVE ALL THE NECESSARY DOCUMENTS AS REGARDS TO THE FUNDS INCLUDING THE (CERTIFICATE OF DEPOSIT), AS I AM THE DEPOSITOR OF THE CONSIGNMENT.\\n\\n\\nLOOKING FORWARD TO YOUR URGENT RESPONSE.\\n\\nYOUR SINCERELY,\\n\\nMR. JAMES NGOLA. \\n\\n\\n\\n\\n\\n\\n\\n\\n\\n\\nFrom r  Thu Oct 31 08:11:39 2002\\nReturn-Path: <bensul2004nng@spinfinder.com>\\nX-Sieve: cmu-sieve 2.0\\nReturn-Path: <bensul2004nng@spinfinder.com>\\nMessage-Id: <200210311310.g9VDANt24674@bloodwork.mr.itd.UM>\\nFrom: \"Mr. Ben Suleman\" <bensul2004nng@spinfinder.com>\\nDate: Thu, 31 Oct 2002 05:10:00\\nTo: R@M\\nSubject: URGENT ASSISTANCE /RELATIONSHIP (P)\\nMIME-Version: 1.0\\nContent-Type: text/plain;charset=\"iso-8859-1\"\\nContent-Transfer-Encoding: 7bit\\nStatus: O\\n\\nDear Friend,\\n\\nI am Mr. Ben Suleman a custom officer and work as Assistant controller of the Customs and Excise department Of the Federal Ministry of Internal Affairs stationed at the Murtala Mohammed International Airport, Ikeja, Lagos-Nigeria.\\n\\nAfter the sudden death of the former Head of state of Nigeria General Sanni Abacha on June 8th 1998 his aides and immediate members of his family were arrested while trying to escape from Nigeria in a Chartered jet to Saudi Arabia with 6 trunk boxes Marked \"Diplomatic Baggage\". Acting on a tip-off as they attempted to board the Air Craft,my officials carried out a thorough search on the air craft and discovered that the 6 trunk boxes contained foreign currencies amounting to US$197,570,000.00(One Hundred and  Ninety-Seven Million Five Hundred Seventy Thousand United States Dollars).\\n\\nI declared only (5) five boxes to the government and withheld one (1) in my custody containing the sum of (US$30,000,000.00) Thirty Million United States Dollars Only, which has been disguised to prevent their being discovered during transportation process.Due to several media reports on the late head of state about all the money him and his co-government officials stole from our government treasury amounting\\nto US$55 Billion Dollars (ref:ngrguardiannews.com) of July 2nd 1999. Even the London times of July 1998 reported that General Abacha has over US$3.Billion dollars in one account overseas. We decided to conceal this one (1)box till the situation is calm and quite on the issue. The box was thus deposited with a security company here in Nigeria and tagged as \"Precious Stones and Jewellry\" in other that its\\ncontent will not be discovered. Now that all is calm, we (myself and two of my colleagues in the operations team) are now ready to move this box out of the country through a diplomatic arrangement which is the safest means. \\n\\nHowever as government officials the Civil Service Code of Conduct does not allow us by law to operate any foreign account or own foreign investment and the amount of money that can be found in our account\\ncannot be more than our salary on the average, thus our handicapp and our need for your assistance to help collect and keep safely in your account this money.\\n\\nTherefore we want you to assist us in moving this money out of Nigeria. We shall definitely compensate you handsomely for the assistance. We can do this by instructing the Security Company here in Nigeria to\\nmove the consignment to their affiliate branch office outside Nigeria through diplomatic means and the consignment will be termed as Precious Stones and Jewelleries\" which you bought during your visit to Nigeria and is being transfered to your country from here for safe keeping. Then we can arrange to meet at the destination country to take the delivery of the consignment. You will thereafter open an account there and lodge the Money there and gradually instruct remittance to your Country. \\n\\nThis business is 100% risk free for you so please treat this matter with utmost confidentiality .If you indicate your interest to assist us please just e-mail me for more Explanation on how we plan to execute the transaction.\\n\\nExpecting your response urgently.\\n\\nBest regards,\\n\\nMr. Ben Suleman\\n\\nFrom r  Thu Oct 31 17:27:16 2002\\nReturn-Path: <obong_715@epatra.com>\\nX-Sieve: cmu-sieve 2.0\\nReturn-Path: <obong_715@epatra.com>\\nMessage-Id: <200210312227.g9VMQvDj017948@bluewhale.cs.CU>\\nFrom: \"PRINCE OBONG ELEME\" <obong_715@epatra.com>\\nReply-To: obong_715@epatra.com\\nTo: webmaster@aclweb.org\\nDate: Thu, 31 Oct 2002 22:17:55 +0100\\nSubject: GOOD DAY TO YOU\\nX-Mailer: Microsoft Outlook Express 5.00.2919.6900DM\\nMIME-Version: 1.0\\nContent-Type: text/plain; charset=\"us-ascii\"\\nContent-Transfer-Encoding: 8bit\\nX-MIME-Autoconverted: from quoted-printable to 8bit by sideshowmel.si.UM id g9VMRBW20642\\nStatus: RO\\n\\nFROM HIS ROYAL MAJESTY (HRM) CROWN RULER OF ELEME KINGDOM \\nCHIEF DANIEL ELEME, PHD, EZE 1 OF ELEME.E-MAIL \\nADDRESS:obong_715@epatra.com  \\n\\nATTENTION:PRESIDENT,CEO Sir/ Madam. \\n\\nThis letter might surprise you because we have met\\nneither in person nor by correspondence. But I believe\\nit is one day that you got to know somebody either in\\nphysical or through correspondence. \\n\\nI got your contact through discreet inquiry from the\\nchambers of commerce and industry of your country on\\nthe net, you and your organization were revealed as\\nbeing quite astute in private entrepreneurship, one\\nhas no doubt in your ability to handle a financialbusiness transaction. \\n\\nHowever, I am the first son of His Royal\\nmajesty,Obong.D. Eleme , and the traditional Ruler of\\nEleme Province in the oil producing area of River\\nState of Nigeria. I am making this contact to you in\\nrespect of US$60,000,000.00 (Sixty Million United\\nState Dollars), which I inherited, from my latefather. \\n\\nThis money was accumulated from royalties paid to my\\nfather as compensation by the oil firms located in our\\narea as a result of oil presence on our land, which\\nhamper agriculture, which is our major source oflivelihood. \\n\\nUnfortunately my father died from protracted\\ndiabetes.But before his death he called my attention\\nand informed me that he lodged some funds on a two\\nboxes with a security firm with an open beneficiary\\nstatus. The lodgment security code number was also\\nrevealed to me, he then advised me to look for a\\nreliable business partner abroad, that will assist me\\nin investing the money in a lucrative business as a\\nresult of economic instability in Nigeria. So this is\\nthe main reason why I am contacting you for us to move\\nthis money from the security firm to any Country of\\nyour choice for investment purpose. \\n\\nSo I will like you to be the ultimate beneficiary, so\\nthat the funds can be moved in your name and\\nparticulars to any Country of your choice where it\\nwill be claimed and invested. Hence my father have had\\nintimated the security firm personnel that the\\nbeneficiary of the box is his foreign partner whose\\nparticulars will be forwarded to the firm when due. \\n\\nBut I will guide you Accordingly. As soon as the funds\\nreach, I will then come over to meet you in person, so\\nthat we can discuss physically on investment\\npotentials. Based on this assistance my Family and I\\nhave unanimously decided to give you 30% of the total\\nmoney, 5% for Charity home, 10% for expenses, which\\nmay arise during this transaction, Fax and phone bills\\ninclusive. The balance of 55% you will invest andmanaged for my Family. \\n\\nI hereby guarantee you that this is not government\\nmoney, it is not drug money and it is not money from\\narms deal. Though you have to maintain high degree of\\nconfidentiality on this matter. I will give more\\ndetails about the proceedings of this transaction as\\nsoon as I receive your favorable reply. \\n\\nPlease reply to my Email Address:obong_715@epatra.com\\nI hope this will be the beginning of a prosperous\\nrelationship between my family and your family. \\n\\nNevertheless if you are for any reason not interested,\\nkindly inform me immediately so that I will look foranother contact. \\n\\nI am waiting for your quick response. \\n\\nYours faithfully, \\n\\nPrince Obong Abbot \\n\\n\\nFrom r  Thu Oct 31 17:53:56 2002\\nReturn-Path: <obong_715@epatra.com>\\nX-Sieve: cmu-sieve 2.0\\nReturn-Path: <obong_715@epatra.com>\\nMessage-Id: <200210312253.g9VMreDj018024@bluewhale.cs.CU>\\nFrom: \"PRINCE OBONG ELEME\" <obong_715@epatra.com>\\nDate: Thu, 31 Oct 2002 22:44:20\\nTo: webmaster@aclweb.org\\nSubject: GOOD DAY TO YOU\\nMIME-Version: 1.0\\nContent-Type: text/plain;charset=\"iso-8859-1\"\\nContent-Transfer-Encoding: 7bit\\nStatus: RO\\n\\nFROM HIS ROYAL MAJESTY (HRM) CROWN RULER OF ELEME KINGDOM \\nCHIEF DANIEL ELEME, PHD, EZE 1 OF ELEME.E-MAIL \\nADDRESS:obong_715@epatra.com  \\n\\nATTENTION:PRESIDENT,CEO Sir/ Madam. \\n\\nThis letter might surprise you because we have met\\nneither in person nor by correspondence. But I believe\\nit is one day that you got to know somebody either in\\nphysical or through correspondence. \\n\\nI got your contact through discreet inquiry from the\\nchambers of commerce and industry of your country on\\nthe net, you and your organization were revealed as\\nbeing quite astute in private entrepreneurship, one\\nhas no doubt in your ability to handle a financialbusiness transaction. \\n\\nHowever, I am the first son of His Royal\\nmajesty,Obong.D. Eleme , and the traditional Ruler of\\nEleme Province in the oil producing area of River\\nState of Nigeria. I am making this contact to you in\\nrespect of US$60,000,000.00 (Sixty Million United\\nState Dollars), which I inherited, from my latefather. \\n\\nThis money was accumulated from royalties paid to my\\nfather as compensation by the oil firms located in our\\narea as a result of oil presence on our land, which\\nhamper agriculture, which is our major source oflivelihood. \\n\\nUnfortunately my father died from protracted\\ndiabetes.But before his death he called my attention\\nand informed me that he lodged some funds on a two\\nboxes with a security firm with an open beneficiary\\nstatus. The lodgment security code number was also\\nrevealed to me, he then advised me to look for a\\nreliable business partner abroad, that will assist me\\nin investing the money in a lucrative business as a\\nresult of economic instability in Nigeria. So this is\\nthe main reason why I am contacting you for us to move\\nthis money from the security firm to any Country of\\nyour choice for investment purpose. \\n\\nSo I will like you to be the ultimate beneficiary, so\\nthat the funds can be moved in your name and\\nparticulars to any Country of your choice where it\\nwill be claimed and invested. Hence my father have had\\nintimated the security firm personnel that the\\nbeneficiary of the box is his foreign partner whose\\nparticulars will be forwarded to the firm when due. \\n\\nBut I will guide you Accordingly. As soon as the funds\\nreach, I will then come over to meet you in person, so\\nthat we can discuss physically on investment\\npotentials. Based on this assistance my Family and I\\nhave unanimously decided to give you 30% of the total\\nmoney, 5% for Charity home, 10% for expenses, which\\nmay arise during this transaction, Fax and phone bills\\ninclusive. The balance of 55% you will invest andmanaged for my Family. \\n\\nI hereby guarantee you that this is not government\\nmoney, it is not drug money and it is not money from\\narms deal. Though you have to maintain high degree of\\nconfidentiality on this matter. I will give more\\ndetails about the proceedings of this transaction as\\nsoon as I receive your favorable reply. \\n\\nPlease reply to my Email Address:obong_715@epatra.com\\nI hope this will be the beginning of a prosperous\\nrelationship between my family and your family. \\n\\nNevertheless if you are for any reason not interested,\\nkindly inform me immediately so that I will look foranother contact. \\n\\nI am waiting for your quick response. \\n\\nYours faithfully, \\n\\nPrince Obong Eleme\\n\\nFrom r  Fri Nov  1 04:48:39 2002\\nReturn-Path: <m_abacha03@www.com>\\nX-Sieve: cmu-sieve 2.0\\nReturn-Path: <m_abacha03@www.com>\\nMessage-Id: <200211010948.gA19mLu22932@perfectworld.mr.itd.UM>\\nFrom: \"Maryam Abacha\" <m_abacha03@www.com>\\nReply-To: m_abacha03@www.com\\nTo: R@M\\nDate: Fri, 1 Nov 2002 01:45:04 +0100\\nSubject: I Need Your Assistance.\\nX-Mailer: Microsoft Outlook Express 5.00.2919.6900 DM\\nMIME-Version: 1.0\\nContent-Type: text/plain; charset=\"us-ascii\"\\nContent-Transfer-Encoding: 8bit\\nX-MIME-Autoconverted: from quoted-printable to 8bit by sideshowmel.si.UM id gA19mVW29040\\nStatus: RO\\n\\nDear sir, \\n \\nIt is with a heart full of hope that I write to seek your help in respect of the context below. I am Mrs. Maryam Abacha the former first lady of the former Military Head of State of Nigeria General Sani Abacha whose sudden death occurred on 8th of June 1998 as a result of cardiac arrest (heart attack) while on the seat of power. \\nI have no doubt about your capability and good-will to assist me in receiving into your custody (for safety) the sum of US$25 Million willed and deposited in my favour by my late husband in a security and deposit company. Though my contact to you for this assistance is not anchored on any personal ecommendation, I pray your understanding, good will and sincere assistance to respond to this message with honest intensions and concern. \\nThis money is currently deposited here with a security company as miscellaneous awaiting collection and according to the agreement entered into at the time of deposit between my late husband and the Security Company at the time of deposit; the collection centre is in Ghana. As it is legally required, the administration of my late husband\\'s properties is under the authority of the family\\'s lawyer Tony Musa. \\n \\nMy Dear JK, since the demise of my husband, the present regime has been probing my late husband\\'s wealth and properties, the London Newsweek of 13th march 2000 referred. The investigating team led by Enrico Monfrini, the lawyer acting on behalf of the Nigerian government has so far submitted their report and presently, some liquid cash and assets, movable and immovable, have been frozen and seized both locally here and internationally and my last hope is rested on the immediate security of this fund in your custody. Also, Johnnie Cochran, the lawyer who defended OJ Simpson, has been brought in by the Abacha entourage to help them retain the disputed funds. Fortunately, our family lawyer had secretly protected the \"Personal will\" of my husband from the notice of the investigators and have strictly advised that the willed money be urgently moved into an overseas account of Trusted Foreign family friend without delay. For security reasons and f!\\nurther advise,! no relations or fr! \\niends of ours should be used; as this is a measure of security. The government had earlier placed foreign travel embargo on all our family members and seized all known local and International outfits of our business empire. \\nThe situation has been so terrible that we are virtually living on the assistance of well-wishers. In view of this plight, I expect you to be trustworthy and kind enough to respond to this \"SOS\" call to save my children and I from a hopeless future. \\nI hereby agree to compensate your sincere and candid effort, immensely, which will be discussed between you, the Attorney and I. On your immediate response, the Attorney will travel to Ghana where both of you will meet, and thereafter proceed to the deposit company for the claims. \\nThe documentations include, most importantly, Power of Attorney and Certificate of Deposit amongst few others. These documents will be sent to you by Fax, as you would have to present them for proper claims. \\nPlease, be rest assured that this transaction is completely safe and legal but must be kept strictly to yourself even after the funds have been secured into our custody. This is so because any leakage of information could ruin the whole transaction. \\nPlease all contacts must be made through my lawyer on his email: tony_m@lawyer.com This has to be so as he has been mandated to handle this matter and I have fully briefed him (my Attorney) on my contact to you. Due to my present circumstance, I have handed everything over to him to co - ordinate and finalize with you and I will communicate you as at when necessary. Please for the safety of this transaction, reply stating your phone and fax numbers to enable them contact you directly without running the risk of mail interception. \\nI look forward to your quick response. \\nBest Wishes, \\nMrs. Maryam Abacha \\n \\n\\n\\n'"
      ]
     },
     "execution_count": 3,
     "metadata": {},
     "output_type": "execute_result"
    }
   ],
   "source": [
    "fh"
   ]
  },
  {
   "cell_type": "code",
   "execution_count": 4,
   "metadata": {},
   "outputs": [
    {
     "name": "stdout",
     "output_type": "stream",
     "text": [
      "From r  Wed Oct 30 21:41:56 2002\n",
      "From: \"MR. JAMES NGOLA.\" <james_ngola2002@maktoob.com>\n",
      "From r  Thu Oct 31 08:11:39 2002\n",
      "From: \"Mr. Ben Suleman\" <bensul2004nng@spinfinder.com>\n",
      "From r  Thu Oct 31 17:27:16 2002\n",
      "From: \"PRINCE OBONG ELEME\" <obong_715@epatra.com>\n",
      "From r  Thu Oct 31 17:53:56 2002\n",
      "From: \"PRINCE OBONG ELEME\" <obong_715@epatra.com>\n",
      "From r  Fri Nov  1 04:48:39 2002\n",
      "From: \"Maryam Abacha\" <m_abacha03@www.com>\n"
     ]
    }
   ],
   "source": [
    "#using pure python to catch all instances of From cases  \n",
    "for line in fh.split(\"\\n\"):\n",
    "    if \"From\" in line:\n",
    "        print(line)"
   ]
  },
  {
   "cell_type": "code",
   "execution_count": 5,
   "metadata": {},
   "outputs": [
    {
     "name": "stdout",
     "output_type": "stream",
     "text": [
      "From: \"MR. JAMES NGOLA.\" <james_ngola2002@maktoob.com>\n",
      "From: \"Mr. Ben Suleman\" <bensul2004nng@spinfinder.com>\n",
      "From: \"PRINCE OBONG ELEME\" <obong_715@epatra.com>\n",
      "From: \"PRINCE OBONG ELEME\" <obong_715@epatra.com>\n",
      "From: \"Maryam Abacha\" <m_abacha03@www.com>\n"
     ]
    }
   ],
   "source": [
    "# usimg regex to catch all the instances of From\n",
    "import re\n",
    "for line in re.findall(\"From:.*\",fh):\n",
    "    print(line)"
   ]
  },
  {
   "cell_type": "code",
   "execution_count": 6,
   "metadata": {},
   "outputs": [
    {
     "data": {
      "text/plain": [
       "['From: \"MR. JAMES NGOLA.\" <james_ngola2002@maktoob.com>',\n",
       " 'From: \"Mr. Ben Suleman\" <bensul2004nng@spinfinder.com>',\n",
       " 'From: \"PRINCE OBONG ELEME\" <obong_715@epatra.com>',\n",
       " 'From: \"PRINCE OBONG ELEME\" <obong_715@epatra.com>',\n",
       " 'From: \"Maryam Abacha\" <m_abacha03@www.com>']"
      ]
     },
     "execution_count": 6,
     "metadata": {},
     "output_type": "execute_result"
    }
   ],
   "source": [
    "# alternative method\n",
    "match=re.findall(\"From:.*\",fh)\n",
    "match"
   ]
  },
  {
   "cell_type": "code",
   "execution_count": 7,
   "metadata": {},
   "outputs": [
    {
     "name": "stdout",
     "output_type": "stream",
     "text": [
      "['\"MR. JAMES NGOLA.\"']\n",
      "['\"Mr. Ben Suleman\"']\n",
      "['\"PRINCE OBONG ELEME\"']\n",
      "['\"PRINCE OBONG ELEME\"']\n",
      "['\"Maryam Abacha\"']\n"
     ]
    }
   ],
   "source": [
    "#get name\n",
    "for line in match:\n",
    "    #matching first quotation mark using \\\n",
    "    print(re.findall(\"\\\".*\\\"\",line))"
   ]
  },
  {
   "cell_type": "code",
   "execution_count": 8,
   "metadata": {},
   "outputs": [
    {
     "name": "stdout",
     "output_type": "stream",
     "text": [
      "['<james_ngola2002@maktoob.com>']\n",
      "['<bensul2004nng@spinfinder.com>']\n",
      "['<obong_715@epatra.com>']\n",
      "['<obong_715@epatra.com>']\n",
      "['<m_abacha03@www.com>']\n"
     ]
    }
   ],
   "source": [
    "#get email\n",
    "for line in match:\n",
    "    print(re.findall(\"<.*>\",line))"
   ]
  },
  {
   "cell_type": "code",
   "execution_count": 9,
   "metadata": {},
   "outputs": [
    {
     "name": "stdout",
     "output_type": "stream",
     "text": [
      "['james_ngola2002@maktoob.com']\n",
      "['bensul2004nng@spinfinder.com']\n",
      "['obong_715@epatra.com']\n",
      "['obong_715@epatra.com']\n",
      "['m_abacha03@www.com']\n"
     ]
    }
   ],
   "source": [
    "for line in match:\n",
    "    print(re.findall(\"\\w\\S*@.*\\w\",line))"
   ]
  },
  {
   "cell_type": "markdown",
   "metadata": {},
   "source": [
    "# Common REGEX functions"
   ]
  },
  {
   "cell_type": "code",
   "execution_count": 10,
   "metadata": {},
   "outputs": [
    {
     "name": "stdout",
     "output_type": "stream",
     "text": [
      "<re.Match object; span=(190, 244), match='From: \"MR. JAMES NGOLA.\" <james_ngola2002@maktoob> <class 're.Match'> \n",
      " From: \"MR. JAMES NGOLA.\" <james_ngola2002@maktoob.com> \n",
      " <class 'str'>\n"
     ]
    }
   ],
   "source": [
    "match=re.search(\"From:.*\",fh)\n",
    "print(match,type(match),'\\n',match.group(),'\\n',type(match.group()))"
   ]
  },
  {
   "cell_type": "code",
   "execution_count": 11,
   "metadata": {},
   "outputs": [
    {
     "name": "stdout",
     "output_type": "stream",
     "text": [
      "james_ngola2002, maktoob.com\n",
      "bensul2004nng, spinfinder.com\n",
      "obong_715, epatra.com\n",
      "obong_715, epatra.com\n",
      "m_abacha03, www.com\n"
     ]
    }
   ],
   "source": [
    "# re.split()\n",
    "address=re.findall(\"From:.*\",fh)\n",
    "#print(address)\n",
    "for item in address:\n",
    "    email=re.findall(\"\\w\\S*@.*\\w\",item)\n",
    "    for i in email:\n",
    "        username,domain_name=re.split(\"@\",i)\n",
    "        print(\"{}, {}\".format(username,domain_name))\n",
    "\n",
    "# for i in email:\n",
    "#     print(re.split(\"@\",i))"
   ]
  },
  {
   "cell_type": "code",
   "execution_count": 12,
   "metadata": {},
   "outputs": [
    {
     "name": "stdout",
     "output_type": "stream",
     "text": [
      "From: \"MR. JAMES NGOLA.\" <james_ngola2002@maktoob.com> email: \"MR. JAMES NGOLA.\" <james_ngola2002@maktoob.com>\n"
     ]
    }
   ],
   "source": [
    "#re.sub\n",
    "sender=re.search(\"From:.*\",fh)\n",
    "address=sender.group()\n",
    "email=re.sub(\"From\",\"email\",address)\n",
    "print(address ,email)\n"
   ]
  },
  {
   "cell_type": "markdown",
   "metadata": {},
   "source": [
    "# Other regex operations\n",
    "\n"
   ]
  },
  {
   "cell_type": "code",
   "execution_count": 13,
   "metadata": {},
   "outputs": [],
   "source": [
    "import re\n",
    "import pandas as pd\n",
    "import email\n",
    "emails=[]\n",
    "#fh=open(r\"C:\\\\Users\\\\AG056210\\\\Downloads\\\\fraudulent-email-corpus\\\\test_emails.txt\",\"r\").read()"
   ]
  },
  {
   "cell_type": "code",
   "execution_count": 14,
   "metadata": {},
   "outputs": [
    {
     "data": {
      "text/plain": [
       "['From r  Wed Oct 30 21:41:56 2002',\n",
       " 'From: \"MR. JAMES NGOLA.\" <james_ngola2002@maktoob.com>',\n",
       " 'From r  Thu Oct 31 08:11:39 2002',\n",
       " 'From: \"Mr. Ben Suleman\" <bensul2004nng@spinfinder.com>',\n",
       " 'From r  Thu Oct 31 17:27:16 2002',\n",
       " 'From: \"PRINCE OBONG ELEME\" <obong_715@epatra.com>',\n",
       " 'From r  Thu Oct 31 17:53:56 2002',\n",
       " 'From: \"PRINCE OBONG ELEME\" <obong_715@epatra.com>',\n",
       " 'From r  Fri Nov  1 04:48:39 2002',\n",
       " 'From: \"Maryam Abacha\" <m_abacha03@www.com>']"
      ]
     },
     "execution_count": 14,
     "metadata": {},
     "output_type": "execute_result"
    }
   ],
   "source": [
    "re.findall(r\"From.*\",fh)"
   ]
  },
  {
   "cell_type": "code",
   "execution_count": 15,
   "metadata": {},
   "outputs": [],
   "source": [
    "contents=re.split(r\"From r\",fh)"
   ]
  },
  {
   "cell_type": "code",
   "execution_count": 16,
   "metadata": {},
   "outputs": [
    {
     "data": {
      "text/plain": [
       "''"
      ]
     },
     "execution_count": 16,
     "metadata": {},
     "output_type": "execute_result"
    }
   ],
   "source": [
    "contents.pop(0)"
   ]
  },
  {
   "cell_type": "code",
   "execution_count": 17,
   "metadata": {},
   "outputs": [
    {
     "data": {
      "text/plain": [
       "['ashishgusain52', 'gmail.com']"
      ]
     },
     "execution_count": 17,
     "metadata": {},
     "output_type": "execute_result"
    }
   ],
   "source": [
    "re.split(r'@','ashishgusain52@gmail.com')"
   ]
  },
  {
   "cell_type": "code",
   "execution_count": 18,
   "metadata": {},
   "outputs": [
    {
     "data": {
      "text/plain": [
       "5"
      ]
     },
     "execution_count": 18,
     "metadata": {},
     "output_type": "execute_result"
    }
   ],
   "source": [
    "len(contents)"
   ]
  },
  {
   "cell_type": "code",
   "execution_count": 19,
   "metadata": {},
   "outputs": [
    {
     "name": "stdout",
     "output_type": "stream",
     "text": [
      "james_ngola2002@maktoob.com \"MR. JAMES NGOLA.\"\n",
      "bensul2004nng@spinfinder.com \"Mr. Ben Suleman\"\n",
      "obong_715@epatra.com \"PRINCE OBONG ELEME\"\n",
      "obong_715@epatra.com \"PRINCE OBONG ELEME\"\n",
      "m_abacha03@www.com \"Maryam Abacha\"\n"
     ]
    }
   ],
   "source": [
    "#getting everysender  name and address\n",
    "for item in contents:\n",
    "    emails_dict={}\n",
    "    #find sender's email and name\n",
    "    # step 1: find the whole line beginng with \"From:\"\n",
    "    sender=re.search(\"From:.*\",item)\n",
    "    #print(sender.group())\n",
    "    #step 2: find the email address and name\n",
    "    if sender is not None:\n",
    "        s_email=re.search(r\"\\w\\S*@.*\\w\",sender.group())\n",
    "        s_name=re.search(r\"\\\"\\w.*\\\"\",sender.group())\n",
    "        print(s_email.group(),s_name.group())\n",
    "    else:\n",
    "        s_email=None\n",
    "        s_name=None\n",
    "        "
   ]
  },
  {
   "cell_type": "code",
   "execution_count": 20,
   "metadata": {},
   "outputs": [
    {
     "name": "stdout",
     "output_type": "stream",
     "text": [
      "sender type:<class 're.Match'>\n",
      "sender group type: <class 'str'>\n",
      "sender: <re.Match object; span=(181, 223), match='From: \"Maryam Abacha\" <m_abacha03@www.com>'>\n",
      "Sender group: From: \"Maryam Abacha\" <m_abacha03@www.com>\n",
      "\n",
      "\n"
     ]
    }
   ],
   "source": [
    "#compairing sender and sender group types\n",
    "print(\"sender type:\"+str(type(sender)))\n",
    "print(\"sender group type:\",type(sender.group()))\n",
    "print(\"sender:\",sender)\n",
    "print(\"Sender group:\",sender.group())\n",
    "print(\"\\n\")"
   ]
  },
  {
   "cell_type": "code",
   "execution_count": 21,
   "metadata": {},
   "outputs": [],
   "source": [
    "#continue with step 3 a"
   ]
  },
  {
   "cell_type": "code",
   "execution_count": 22,
   "metadata": {},
   "outputs": [
    {
     "name": "stdout",
     "output_type": "stream",
     "text": [
      "m_abacha03@www.com \"Maryam Abacha\"\n"
     ]
    }
   ],
   "source": [
    "print(s_email.group(),s_name.group())"
   ]
  },
  {
   "cell_type": "code",
   "execution_count": 23,
   "metadata": {},
   "outputs": [
    {
     "data": {
      "text/plain": [
       "'From: \"Maryam Abacha\" <m_abacha03@www.com>'"
      ]
     },
     "execution_count": 23,
     "metadata": {},
     "output_type": "execute_result"
    }
   ],
   "source": [
    "sender.group()"
   ]
  },
  {
   "cell_type": "code",
   "execution_count": 24,
   "metadata": {},
   "outputs": [],
   "source": [
    "#Step 3: assign email address and sender name  as a string to a variable.\n",
    "if s_email  is not None:\n",
    "    s_email=s_email.group()\n",
    "    \n",
    "    \n",
    "else:\n",
    "    s_email=None\n",
    "    \n",
    "    \n",
    "if s_name is not None:\n",
    "     s_name=s_name.group()\n",
    "else:\n",
    "    s_name=None\n",
    "    \n",
    "    \n",
    "#Add email address and name to dictionary\n",
    "emails_dict[\"sender_email\"]=s_email\n",
    "emails_dict[\"sender_name\"]=s_name\n"
   ]
  },
  {
   "cell_type": "code",
   "execution_count": 25,
   "metadata": {},
   "outputs": [
    {
     "data": {
      "text/plain": [
       "{'sender_email': 'm_abacha03@www.com', 'sender_name': '\"Maryam Abacha\"'}"
      ]
     },
     "execution_count": 25,
     "metadata": {},
     "output_type": "execute_result"
    }
   ],
   "source": [
    "emails_dict"
   ]
  },
  {
   "cell_type": "code",
   "execution_count": 26,
   "metadata": {},
   "outputs": [
    {
     "data": {
      "text/plain": [
       "'Maryam Abacha'"
      ]
     },
     "execution_count": 26,
     "metadata": {},
     "output_type": "execute_result"
    }
   ],
   "source": [
    "re.sub(r\"[^a-zA-Z ]\",\"\",s_name)"
   ]
  },
  {
   "cell_type": "markdown",
   "metadata": {},
   "source": [
    "# Extracting the Reciever"
   ]
  },
  {
   "cell_type": "code",
   "execution_count": 27,
   "metadata": {},
   "outputs": [
    {
     "data": {
      "text/plain": [
       "'james_ngola2002@maktoob.com'"
      ]
     },
     "execution_count": 27,
     "metadata": {},
     "output_type": "execute_result"
    }
   ],
   "source": [
    "re.search('\\w\\S*@.*','To: james_ngola2002@maktoob.com').group().strip()\n",
    "#\"\\w\\S*@.*\\w\""
   ]
  },
  {
   "cell_type": "code",
   "execution_count": 28,
   "metadata": {},
   "outputs": [
    {
     "name": "stdout",
     "output_type": "stream",
     "text": [
      "['To: james_ngola2002@maktoob.com', 'To: webmaster@aclweb.org']\n",
      "['To: R@M']\n",
      "['To: obong_715@epatra.com', 'To: webmaster@aclweb.org']\n",
      "['To: webmaster@aclweb.org']\n",
      "['To: m_abacha03@www.com', 'To: R@M']\n"
     ]
    }
   ],
   "source": [
    "for items in contents:\n",
    "    print(re.findall(r\"To:.*\",items))"
   ]
  },
  {
   "cell_type": "code",
   "execution_count": null,
   "metadata": {},
   "outputs": [],
   "source": [
    "for items in contents:\n",
    "    recipient = re.search(r\"To:.*\", items)\n",
    "    #print(recipient)\n",
    "    if recipient is not None:\n",
    "        #print(re.sub(r'^[a-zA-Z_]','',recipient.group()))#',recipient.group()).group())\n",
    "        #print(recipient.group())\n",
    "        #print(re.search('\\s.*\\w',recipient.group()).group())\n",
    "        new_recipient=re.split('@',recipient.group())[0]\n",
    "        new_recipient=re.sub(r'[^a-zA-Z]',' ',new_recipient)\n",
    "        new_recipient=re.search('\\s.*',new_recipient).group().strip()\n",
    "        #new_recipient=re.sub(r'[To]','',new_recipient).strip()\n",
    "        #print(new_recipient)\n",
    "        emails_dict['reciever_name']=new_recipient\n",
    "        #recipient_name=new_recipient\n",
    "        recipient_email=re.search('\\S*@.*',recipient.group()).group().strip()\n",
    "        if recipient_email is not None:\n",
    "                r_email=recipient_email\n",
    "        else:\n",
    "            r_email=None\n",
    "        \n",
    "        emails_dict['r_email']=r_email\n",
    "        \n",
    "        #print(recipient_email)\n",
    "        \n",
    "    if recipient is None:\n",
    "        recipient=None\n",
    "    print(emails_dict)\n",
    "    "
   ]
  },
  {
   "cell_type": "markdown",
   "metadata": {},
   "source": [
    "# Getting the date for email\n"
   ]
  },
  {
   "cell_type": "code",
   "execution_count": null,
   "metadata": {},
   "outputs": [],
   "source": [
    "for item in contents:\n",
    "    date_field=re.search('Date:.*',item)\n",
    "    print(date_field.group())\n",
    "    if date_field is not None:\n",
    "        date=re.search(r'\\d+\\s+\\w+\\s+\\d+',date_field.group()).group()\n",
    "#         \"d+sw+sd+\n",
    "#         r'\\d+\\s+\\w+\\s+\\d+'\n",
    "        print(date)\n",
    "    else:\n",
    "        date_field=None\n",
    "        \n",
    "    emails_dict['date']=date\n",
    "    print(emails_dict)\n",
    "    \n",
    "    \n",
    "        "
   ]
  },
  {
   "cell_type": "markdown",
   "metadata": {},
   "source": [
    "# Getting email subject\n"
   ]
  },
  {
   "cell_type": "code",
   "execution_count": 30,
   "metadata": {},
   "outputs": [
    {
     "name": "stdout",
     "output_type": "stream",
     "text": [
      "{'subject': 'URGENT BUSINESS ASSISTANCE AND PARTNERSHIP'}\n",
      "{'subject': 'URGENT ASSISTANCE /RELATIONSHIP (P)'}\n",
      "{'subject': 'GOOD DAY TO YOU'}\n",
      "{'subject': 'GOOD DAY TO YOU'}\n",
      "{'subject': 'I Need Your Assistance.'}\n"
     ]
    }
   ],
   "source": [
    "emails_dict={}\n",
    "for item in contents:\n",
    "    sub=re.search(r'Subject:.*',item)\n",
    "    if sub is not None:\n",
    "        subject_field=re.sub(r'Subject: ','',sub.group())\n",
    "        #print(subject_field)\n",
    "    else:\n",
    "        subject_field=None\n",
    "    \n",
    "    emails_dict['subject']=subject_field\n",
    "    print(emails_dict)\n",
    "    "
   ]
  },
  {
   "cell_type": "code",
   "execution_count": 31,
   "metadata": {},
   "outputs": [
    {
     "data": {
      "text/plain": [
       "{'subject': 'I Need Your Assistance.'}"
      ]
     },
     "execution_count": 31,
     "metadata": {},
     "output_type": "execute_result"
    }
   ],
   "source": [
    "emails_dict"
   ]
  },
  {
   "cell_type": "markdown",
   "metadata": {},
   "source": [
    "# Getting body of the message using email library"
   ]
  },
  {
   "cell_type": "code",
   "execution_count": 51,
   "metadata": {},
   "outputs": [],
   "source": [
    "# convert string to email message object\n",
    "fullemail=email.message_from_string(item)\n",
    "# A Message object consists of a header and a payload, which correspond to the header and body of an email.\n",
    "# get payload(body) of the message object\n",
    "body=fullemail.get_payload()\n",
    "emails_dict['body']=body"
   ]
  },
  {
   "cell_type": "code",
   "execution_count": 52,
   "metadata": {},
   "outputs": [
    {
     "data": {
      "text/plain": [
       "'Dear sir, \\n \\nIt is with a heart full of hope that I write to seek your help in respect of the context below. I am Mrs. Maryam Abacha the former first lady of the former Military Head of State of Nigeria General Sani Abacha whose sudden death occurred on 8th of June 1998 as a result of cardiac arrest (heart attack) while on the seat of power. \\nI have no doubt about your capability and good-will to assist me in receiving into your custody (for safety) the sum of US$25 Million willed and deposited in my favour by my late husband in a security and deposit company. Though my contact to you for this assistance is not anchored on any personal ecommendation, I pray your understanding, good will and sincere assistance to respond to this message with honest intensions and concern. \\nThis money is currently deposited here with a security company as miscellaneous awaiting collection and according to the agreement entered into at the time of deposit between my late husband and the Security Company at the time of deposit; the collection centre is in Ghana. As it is legally required, the administration of my late husband\\'s properties is under the authority of the family\\'s lawyer Tony Musa. \\n \\nMy Dear JK, since the demise of my husband, the present regime has been probing my late husband\\'s wealth and properties, the London Newsweek of 13th march 2000 referred. The investigating team led by Enrico Monfrini, the lawyer acting on behalf of the Nigerian government has so far submitted their report and presently, some liquid cash and assets, movable and immovable, have been frozen and seized both locally here and internationally and my last hope is rested on the immediate security of this fund in your custody. Also, Johnnie Cochran, the lawyer who defended OJ Simpson, has been brought in by the Abacha entourage to help them retain the disputed funds. Fortunately, our family lawyer had secretly protected the \"Personal will\" of my husband from the notice of the investigators and have strictly advised that the willed money be urgently moved into an overseas account of Trusted Foreign family friend without delay. For security reasons and f!\\nurther advise,! no relations or fr! \\niends of ours should be used; as this is a measure of security. The government had earlier placed foreign travel embargo on all our family members and seized all known local and International outfits of our business empire. \\nThe situation has been so terrible that we are virtually living on the assistance of well-wishers. In view of this plight, I expect you to be trustworthy and kind enough to respond to this \"SOS\" call to save my children and I from a hopeless future. \\nI hereby agree to compensate your sincere and candid effort, immensely, which will be discussed between you, the Attorney and I. On your immediate response, the Attorney will travel to Ghana where both of you will meet, and thereafter proceed to the deposit company for the claims. \\nThe documentations include, most importantly, Power of Attorney and Certificate of Deposit amongst few others. These documents will be sent to you by Fax, as you would have to present them for proper claims. \\nPlease, be rest assured that this transaction is completely safe and legal but must be kept strictly to yourself even after the funds have been secured into our custody. This is so because any leakage of information could ruin the whole transaction. \\nPlease all contacts must be made through my lawyer on his email: tony_m@lawyer.com This has to be so as he has been mandated to handle this matter and I have fully briefed him (my Attorney) on my contact to you. Due to my present circumstance, I have handed everything over to him to co - ordinate and finalize with you and I will communicate you as at when necessary. Please for the safety of this transaction, reply stating your phone and fax numbers to enable them contact you directly without running the risk of mail interception. \\nI look forward to your quick response. \\nBest Wishes, \\nMrs. Maryam Abacha \\n \\n\\n\\n'"
      ]
     },
     "execution_count": 52,
     "metadata": {},
     "output_type": "execute_result"
    }
   ],
   "source": [
    "#printintg body\n",
    "emails_dict['body']"
   ]
  },
  {
   "cell_type": "code",
   "execution_count": 62,
   "metadata": {},
   "outputs": [
    {
     "data": {
      "text/plain": [
       "'Status: RO'"
      ]
     },
     "execution_count": 62,
     "metadata": {},
     "output_type": "execute_result"
    }
   ],
   "source": [
    "re.search('Status:.*',items).group()"
   ]
  },
  {
   "cell_type": "code",
   "execution_count": 63,
   "metadata": {},
   "outputs": [
    {
     "data": {
      "text/plain": [
       "'  Fri Nov  1 04:48:39 2002\\nReturn-Path: <m_abacha03@www.com>\\nX-Sieve: cmu-sieve 2.0\\nReturn-Path: <m_abacha03@www.com>\\nMessage-Id: <200211010948.gA19mLu22932@perfectworld.mr.itd.UM>\\nFrom: \"Maryam Abacha\" <m_abacha03@www.com>\\nReply-To: m_abacha03@www.com\\nTo: R@M\\nDate: Fri, 1 Nov 2002 01:45:04 +0100\\nSubject: I Need Your Assistance.\\nX-Mailer: Microsoft Outlook Express 5.00.2919.6900 DM\\nMIME-Version: 1.0\\nContent-Type: text/plain; charset=\"us-ascii\"\\nContent-Transfer-Encoding: 8bit\\nX-MIME-Autoconverted: from quoted-printable to 8bit by sideshowmel.si.UM id gA19mVW29040\\nStatus: RO\\n\\nDear sir, \\n \\nIt is with a heart full of hope that I write to seek your help in respect of the context below. I am Mrs. Maryam Abacha the former first lady of the former Military Head of State of Nigeria General Sani Abacha whose sudden death occurred on 8th of June 1998 as a result of cardiac arrest (heart attack) while on the seat of power. \\nI have no doubt about your capability and good-will to assist me in receiving into your custody (for safety) the sum of US$25 Million willed and deposited in my favour by my late husband in a security and deposit company. Though my contact to you for this assistance is not anchored on any personal ecommendation, I pray your understanding, good will and sincere assistance to respond to this message with honest intensions and concern. \\nThis money is currently deposited here with a security company as miscellaneous awaiting collection and according to the agreement entered into at the time of deposit between my late husband and the Security Company at the time of deposit; the collection centre is in Ghana. As it is legally required, the administration of my late husband\\'s properties is under the authority of the family\\'s lawyer Tony Musa. \\n \\nMy Dear JK, since the demise of my husband, the present regime has been probing my late husband\\'s wealth and properties, the London Newsweek of 13th march 2000 referred. The investigating team led by Enrico Monfrini, the lawyer acting on behalf of the Nigerian government has so far submitted their report and presently, some liquid cash and assets, movable and immovable, have been frozen and seized both locally here and internationally and my last hope is rested on the immediate security of this fund in your custody. Also, Johnnie Cochran, the lawyer who defended OJ Simpson, has been brought in by the Abacha entourage to help them retain the disputed funds. Fortunately, our family lawyer had secretly protected the \"Personal will\" of my husband from the notice of the investigators and have strictly advised that the willed money be urgently moved into an overseas account of Trusted Foreign family friend without delay. For security reasons and f!\\nurther advise,! no relations or fr! \\niends of ours should be used; as this is a measure of security. The government had earlier placed foreign travel embargo on all our family members and seized all known local and International outfits of our business empire. \\nThe situation has been so terrible that we are virtually living on the assistance of well-wishers. In view of this plight, I expect you to be trustworthy and kind enough to respond to this \"SOS\" call to save my children and I from a hopeless future. \\nI hereby agree to compensate your sincere and candid effort, immensely, which will be discussed between you, the Attorney and I. On your immediate response, the Attorney will travel to Ghana where both of you will meet, and thereafter proceed to the deposit company for the claims. \\nThe documentations include, most importantly, Power of Attorney and Certificate of Deposit amongst few others. These documents will be sent to you by Fax, as you would have to present them for proper claims. \\nPlease, be rest assured that this transaction is completely safe and legal but must be kept strictly to yourself even after the funds have been secured into our custody. This is so because any leakage of information could ruin the whole transaction. \\nPlease all contacts must be made through my lawyer on his email: tony_m@lawyer.com This has to be so as he has been mandated to handle this matter and I have fully briefed him (my Attorney) on my contact to you. Due to my present circumstance, I have handed everything over to him to co - ordinate and finalize with you and I will communicate you as at when necessary. Please for the safety of this transaction, reply stating your phone and fax numbers to enable them contact you directly without running the risk of mail interception. \\nI look forward to your quick response. \\nBest Wishes, \\nMrs. Maryam Abacha \\n \\n\\n\\n'"
      ]
     },
     "execution_count": 63,
     "metadata": {},
     "output_type": "execute_result"
    }
   ],
   "source": [
    "items"
   ]
  },
  {
   "cell_type": "code",
   "execution_count": 66,
   "metadata": {},
   "outputs": [
    {
     "data": {
      "text/plain": [
       "[{'subject': 'I Need Your Assistance.',\n",
       "  'body': 'Dear sir, \\n \\nIt is with a heart full of hope that I write to seek your help in respect of the context below. I am Mrs. Maryam Abacha the former first lady of the former Military Head of State of Nigeria General Sani Abacha whose sudden death occurred on 8th of June 1998 as a result of cardiac arrest (heart attack) while on the seat of power. \\nI have no doubt about your capability and good-will to assist me in receiving into your custody (for safety) the sum of US$25 Million willed and deposited in my favour by my late husband in a security and deposit company. Though my contact to you for this assistance is not anchored on any personal ecommendation, I pray your understanding, good will and sincere assistance to respond to this message with honest intensions and concern. \\nThis money is currently deposited here with a security company as miscellaneous awaiting collection and according to the agreement entered into at the time of deposit between my late husband and the Security Company at the time of deposit; the collection centre is in Ghana. As it is legally required, the administration of my late husband\\'s properties is under the authority of the family\\'s lawyer Tony Musa. \\n \\nMy Dear JK, since the demise of my husband, the present regime has been probing my late husband\\'s wealth and properties, the London Newsweek of 13th march 2000 referred. The investigating team led by Enrico Monfrini, the lawyer acting on behalf of the Nigerian government has so far submitted their report and presently, some liquid cash and assets, movable and immovable, have been frozen and seized both locally here and internationally and my last hope is rested on the immediate security of this fund in your custody. Also, Johnnie Cochran, the lawyer who defended OJ Simpson, has been brought in by the Abacha entourage to help them retain the disputed funds. Fortunately, our family lawyer had secretly protected the \"Personal will\" of my husband from the notice of the investigators and have strictly advised that the willed money be urgently moved into an overseas account of Trusted Foreign family friend without delay. For security reasons and f!\\nurther advise,! no relations or fr! \\niends of ours should be used; as this is a measure of security. The government had earlier placed foreign travel embargo on all our family members and seized all known local and International outfits of our business empire. \\nThe situation has been so terrible that we are virtually living on the assistance of well-wishers. In view of this plight, I expect you to be trustworthy and kind enough to respond to this \"SOS\" call to save my children and I from a hopeless future. \\nI hereby agree to compensate your sincere and candid effort, immensely, which will be discussed between you, the Attorney and I. On your immediate response, the Attorney will travel to Ghana where both of you will meet, and thereafter proceed to the deposit company for the claims. \\nThe documentations include, most importantly, Power of Attorney and Certificate of Deposit amongst few others. These documents will be sent to you by Fax, as you would have to present them for proper claims. \\nPlease, be rest assured that this transaction is completely safe and legal but must be kept strictly to yourself even after the funds have been secured into our custody. This is so because any leakage of information could ruin the whole transaction. \\nPlease all contacts must be made through my lawyer on his email: tony_m@lawyer.com This has to be so as he has been mandated to handle this matter and I have fully briefed him (my Attorney) on my contact to you. Due to my present circumstance, I have handed everything over to him to co - ordinate and finalize with you and I will communicate you as at when necessary. Please for the safety of this transaction, reply stating your phone and fax numbers to enable them contact you directly without running the risk of mail interception. \\nI look forward to your quick response. \\nBest Wishes, \\nMrs. Maryam Abacha \\n \\n\\n\\n'}]"
      ]
     },
     "execution_count": 66,
     "metadata": {},
     "output_type": "execute_result"
    }
   ],
   "source": [
    "# appending dict to email and vieweing mails\n",
    "emails.append(emails_dict)\n",
    "emails"
   ]
  },
  {
   "cell_type": "markdown",
   "metadata": {},
   "source": [
    "# Putting it all together"
   ]
  },
  {
   "cell_type": "code",
   "execution_count": 157,
   "metadata": {},
   "outputs": [],
   "source": [
    "import re\n",
    "import pandas as pd\n",
    "import email\n",
    "emails=[]\n",
    "\n",
    "#fh=open(r\"C:\\\\Users\\\\AG056210\\\\Downloads\\\\fraudulent-email-corpus\\\\test_emails.txt\",\"r\").read()\n",
    "contents=re.split(r\"From r\",fh)\n",
    "contents.pop(0)\n",
    "\n",
    "#getting everysender  name and address\n",
    "for items in contents:\n",
    "    emails_dict={}\n",
    "    #find sender's email and name\n",
    "    # step 1: find the whole line beginng with \"From:\"\n",
    "    sender=re.search(\"From:.*\",items)\n",
    "    #print(sender.group())\n",
    "    #step 2: find the email address and name\n",
    "    if sender is not None:\n",
    "        s_email=re.search(r\"\\w\\S*@.*\\w\",sender.group())\n",
    "        s_name=re.search(r\"\\\"\\w.*\\\"\",sender.group())\n",
    "        #print(s_email.group(),s_name.group())\n",
    "    else:\n",
    "        s_email=None\n",
    "        s_name=None\n",
    "\n",
    "    #continue with step 3 a\n",
    "\n",
    "    #Step 3: assign email address and sender name  as a string to a variable.\n",
    "    if s_email  is not None:\n",
    "        s_email=s_email.group()\n",
    "\n",
    "\n",
    "    else:\n",
    "        s_email=None\n",
    "\n",
    "\n",
    "    if s_name is not None:\n",
    "         s_name=s_name.group()\n",
    "    else:\n",
    "        s_name=None\n",
    "\n",
    "\n",
    "    #Add email address and name to dictionary\n",
    "    emails_dict[\"sender_email\"]=s_email\n",
    "    emails_dict[\"sender_name\"]=s_name\n",
    "\n",
    "    # Extracting the Reciever\n",
    "\n",
    "#for items in contents:\n",
    "    recipient = re.search(r\"To:.*\", items)\n",
    "    #print(recipient)\n",
    "    if recipient is not None:\n",
    "        #print(re.sub(r'^[a-zA-Z_]','',recipient.group()))#',recipient.group()).group())\n",
    "        #print(recipient.group())\n",
    "        #print(re.search('\\s.*\\w',recipient.group()).group())\n",
    "        new_recipient=re.split('@',recipient.group())[0]\n",
    "        new_recipient=re.sub(r'[^a-zA-Z]',' ',new_recipient)\n",
    "        new_recipient=re.search('\\s.*',new_recipient).group().strip()\n",
    "        #new_recipient=re.sub(r'[To]','',new_recipient).strip()\n",
    "        #print(new_recipient)\n",
    "        emails_dict['reciever_name']=new_recipient\n",
    "        #recipient_name=new_recipient\n",
    "        recipient_email=re.search('\\S*@.*',recipient.group()).group().strip()\n",
    "        if recipient_email is not None:\n",
    "                r_email=recipient_email\n",
    "        else:\n",
    "            r_email=None\n",
    "\n",
    "        emails_dict['r_email']=r_email\n",
    "\n",
    "    #print(recipient_email)\n",
    "\n",
    "    if recipient is None:\n",
    "        recipient=None\n",
    "#print(emails_dict)\n",
    "\n",
    "# Getting the date for email\n",
    "\n",
    "#for item in contents:\n",
    "    date_field=re.search('Date:.*',items)\n",
    "#print(date_field.group())\n",
    "    if date_field is not None:\n",
    "        date=re.search(r'\\d+\\s+\\w+\\s+\\d+',date_field.group()).group()\n",
    "#         \"d+sw+sd+\n",
    "#         r'\\d+\\s+\\w+\\s+\\d+'\n",
    "        #print(date)\n",
    "    else:\n",
    "        date_field=None\n",
    "\n",
    "    emails_dict['date']=date\n",
    "    #print(emails_dict)\n",
    "\n",
    "    # Getting email subject\n",
    "\n",
    "#for item in contents:\n",
    "    sub=re.search(r'Subject:.*',items)\n",
    "    if sub is not None:\n",
    "        subject_field=re.sub(r'Subject: ','',sub.group())\n",
    "        #print(subject_field)\n",
    "    else:\n",
    "        subject_field=None\n",
    "\n",
    "    emails_dict['subject']=subject_field\n",
    "\n",
    "# Getting body of the message using email library\n",
    "\n",
    "# convert string to email message object\n",
    "#for item in contents:\n",
    "    fullemail=email.message_from_string(items)\n",
    "    # A Message object consists of a header and a payload, which correspond to the header and body of an email.\n",
    "    # get payload(body) of the message object\n",
    "    body=fullemail.get_payload()\n",
    "    emails_dict['body']=body\n",
    "    \n",
    "    emails.append(emails_dict)\n",
    "    #print(emails_dict)\n",
    "    \n",
    "    "
   ]
  },
  {
   "cell_type": "markdown",
   "metadata": {},
   "source": [
    "# Printing no of emails and first record"
   ]
  },
  {
   "cell_type": "code",
   "execution_count": 158,
   "metadata": {},
   "outputs": [
    {
     "name": "stdout",
     "output_type": "stream",
     "text": [
      "no. of emails: 5\n",
      "sender_email : james_ngola2002@maktoob.com\n",
      "sender_name : \"MR. JAMES NGOLA.\"\n",
      "reciever_name : james ngola\n",
      "r_email : james_ngola2002@maktoob.com\n",
      "date : 31 Oct 2002\n",
      "subject : URGENT BUSINESS ASSISTANCE AND PARTNERSHIP\n",
      "body : FROM:MR. JAMES NGOLA.\n",
      "CONFIDENTIAL TEL: 233-27-587908.\n",
      "E-MAIL: (james_ngola2002@maktoob.com).\n",
      "\n",
      "URGENT BUSINESS ASSISTANCE AND PARTNERSHIP.\n",
      "\n",
      "\n",
      "DEAR FRIEND,\n",
      "\n",
      "I AM ( DR.) JAMES NGOLA, THE PERSONAL ASSISTANCE TO THE LATE CONGOLESE (PRESIDENT LAURENT KABILA) WHO WAS ASSASSINATED BY HIS BODY GUARD ON 16TH JAN. 2001.\n",
      "\n",
      "\n",
      "THE INCIDENT OCCURRED IN OUR PRESENCE WHILE WE WERE HOLDING MEETING WITH HIS EXCELLENCY OVER THE FINANCIAL RETURNS FROM THE DIAMOND SALES IN THE AREAS CONTROLLED BY (D.R.C.) DEMOCRATIC REPUBLIC OF CONGO FORCES AND THEIR FOREIGN ALLIES ANGOLA AND ZIMBABWE, HAVING RECEIVED THE PREVIOUS DAY (USD$100M) ONE HUNDRED MILLION UNITED STATES DOLLARS, CASH IN THREE DIPLOMATIC BOXES ROUTED THROUGH ZIMBABWE.\n",
      "\n",
      "MY PURPOSE OF WRITING YOU THIS LETTER IS TO SOLICIT FOR YOUR ASSISTANCE AS TO BE A COVER TO THE FUND AND ALSO COLLABORATION IN MOVING THE SAID FUND INTO YOUR BANK ACCOUNT THE SUM OF (USD$25M) TWENTY FIVE MILLION UNITED STATES DOLLARS ONLY, WHICH I DEPOSITED WITH A SECURITY COMPANY IN GHANA, IN A DIPLOMATIC BOX AS GOLDS WORTH (USD$25M) TWENTY FIVE MILLION UNITED STATES DOLLARS ONLY FOR SAFE KEEPING IN A SECURITY VAULT FOR ANY FURTHER INVESTMENT PERHAPS IN YOUR COUNTRY. \n",
      "\n",
      "YOU WERE INTRODUCED TO ME BY A RELIABLE FRIEND OF MINE WHO IS A TRAVELLER,AND ALSO A MEMBER OF CHAMBER OF COMMERCE AS A RELIABLE AND TRUSTWORTHY PERSON WHOM I CAN RELY ON AS FOREIGN PARTNER, EVEN THOUGH THE NATURE OF THE TRANSACTION WAS NOT REVEALED TO HIM FOR SECURITY REASONS.\n",
      "\n",
      "\n",
      "THE (USD$25M) WAS PART OF A PROCEEDS FROM DIAMOND TRADE MEANT FOR THE LATE PRESIDENT LAURENT KABILA WHICH WAS DELIVERED THROUGH ZIMBABWE IN DIPLOMATIC BOXES. THE BOXES WERE KEPT UNDER MY CUSTODY BEFORE THE SAD EVENT THAT TOOK THE LIFE OF (MR. PRESIDENT).THE CONFUSION THAT ENSUED AFTER THE ASSASSINATION AND THE SPORADIC SHOOTING AMONG THE FACTIONS, I HAVE TO RUN AWAY FROM THE COUNTRY FOR MY DEAR LIFE AS I AM NOT A SOLDIER BUT A CIVIL SERVANT I CROSSED RIVER CONGO TO OTHER SIDE OF CONGO LIBREVILLE FROM THERE I MOVED TO THE THIRD COUNTRY GHANA WHERE I AM PRESENTLY TAKING REFUGE. \n",
      "\n",
      "AS A MATTER OF FACT, WHAT I URGENTLY NEEDED FROM YOU IS YOUR ASSISTANCE IN MOVING THIS MONEY INTO YOUR ACCOUNT IN YOUR COUNTRY FOR INVESTMENT WITHOUT RAISING EYEBROW. FOR YOUR ASSISTANCE I WILL GIVE YOU 20% OF THE TOTAL SUM AS YOUR OWN SHARE WHEN THE MONEY GETS TO YOUR ACCOUNT, WHILE 75% WILL BE FOR ME, OF WHICH WITH YOUR KIND ADVICE I HOPE TO INVEST IN PROFITABLE VENTURE IN YOUR COUNTRY IN OTHER TO SETTLE DOWN FOR MEANINGFUL LIFE, AS I AM TIRED OF LIVING IN A WAR ENVIRONMENT. \n",
      "\n",
      "THE REMAINING 5% WILL BE USED TO OFFSET ANY COST INCURRED IN THE CAUSE OF MOVING THE MONEY TO YOUR ACCOUNT. IF THE PROPOSAL IS ACCEPTABLE TO YOU PLEASE CONTACT ME IMMEDIATELY THROUGH THE ABOVE TELEPHONE AND E-MAIL, TO ENABLE ME ARRANGE FACE TO FACE MEETING WITH YOU IN GHANA FOR THE CLEARANCE OF THE FUNDS BEFORE TRANSFRING IT TO YOUR BANK ACCOUNT AS SEEING IS BELIEVING. \n",
      "\n",
      "FINALLY, IT IS IMPORTANT ALSO THAT I LET YOU UNDERSTAND THAT THERE IS NO RISK INVOLVED WHATSOEVER AS THE MONEY HAD NO RECORD IN KINSHASA FOR IT WAS MEANT FOR THE PERSONAL USE OF (MR. PRESIDEND ) BEFORE THE NEFARIOUS INCIDENT OCCURRED, AND ALSO I HAVE ALL THE NECESSARY DOCUMENTS AS REGARDS TO THE FUNDS INCLUDING THE (CERTIFICATE OF DEPOSIT), AS I AM THE DEPOSITOR OF THE CONSIGNMENT.\n",
      "\n",
      "\n",
      "LOOKING FORWARD TO YOUR URGENT RESPONSE.\n",
      "\n",
      "YOUR SINCERELY,\n",
      "\n",
      "MR. JAMES NGOLA. \n",
      "\n",
      "\n",
      "\n",
      "\n",
      "\n",
      "\n",
      "\n",
      "\n",
      "\n",
      "\n",
      "\n"
     ]
    }
   ],
   "source": [
    "print(\"no. of emails: \" +str(len(emails)))\n",
    "for key, value in emails[0].items():\n",
    "    print(key,':',value)\n",
    "    "
   ]
  },
  {
   "cell_type": "code",
   "execution_count": 161,
   "metadata": {},
   "outputs": [
    {
     "data": {
      "text/html": [
       "<div>\n",
       "<style scoped>\n",
       "    .dataframe tbody tr th:only-of-type {\n",
       "        vertical-align: middle;\n",
       "    }\n",
       "\n",
       "    .dataframe tbody tr th {\n",
       "        vertical-align: top;\n",
       "    }\n",
       "\n",
       "    .dataframe thead th {\n",
       "        text-align: right;\n",
       "    }\n",
       "</style>\n",
       "<table border=\"1\" class=\"dataframe\">\n",
       "  <thead>\n",
       "    <tr style=\"text-align: right;\">\n",
       "      <th></th>\n",
       "      <th>body</th>\n",
       "      <th>date</th>\n",
       "      <th>r_email</th>\n",
       "      <th>reciever_name</th>\n",
       "      <th>sender_email</th>\n",
       "      <th>sender_name</th>\n",
       "      <th>subject</th>\n",
       "    </tr>\n",
       "  </thead>\n",
       "  <tbody>\n",
       "    <tr>\n",
       "      <th>0</th>\n",
       "      <td>FROM:MR. JAMES NGOLA.\\nCONFIDENTIAL TEL: 233-2...</td>\n",
       "      <td>31 Oct 2002</td>\n",
       "      <td>james_ngola2002@maktoob.com</td>\n",
       "      <td>james ngola</td>\n",
       "      <td>james_ngola2002@maktoob.com</td>\n",
       "      <td>\"MR. JAMES NGOLA.\"</td>\n",
       "      <td>URGENT BUSINESS ASSISTANCE AND PARTNERSHIP</td>\n",
       "    </tr>\n",
       "    <tr>\n",
       "      <th>1</th>\n",
       "      <td>Dear Friend,\\n\\nI am Mr. Ben Suleman a custom ...</td>\n",
       "      <td>31 Oct 2002</td>\n",
       "      <td>R@M</td>\n",
       "      <td>R</td>\n",
       "      <td>bensul2004nng@spinfinder.com</td>\n",
       "      <td>\"Mr. Ben Suleman\"</td>\n",
       "      <td>URGENT ASSISTANCE /RELATIONSHIP (P)</td>\n",
       "    </tr>\n",
       "    <tr>\n",
       "      <th>2</th>\n",
       "      <td>FROM HIS ROYAL MAJESTY (HRM) CROWN RULER OF EL...</td>\n",
       "      <td>31 Oct 2002</td>\n",
       "      <td>obong_715@epatra.com</td>\n",
       "      <td>obong</td>\n",
       "      <td>obong_715@epatra.com</td>\n",
       "      <td>\"PRINCE OBONG ELEME\"</td>\n",
       "      <td>GOOD DAY TO YOU</td>\n",
       "    </tr>\n",
       "    <tr>\n",
       "      <th>3</th>\n",
       "      <td>FROM HIS ROYAL MAJESTY (HRM) CROWN RULER OF EL...</td>\n",
       "      <td>31 Oct 2002</td>\n",
       "      <td>webmaster@aclweb.org</td>\n",
       "      <td>webmaster</td>\n",
       "      <td>obong_715@epatra.com</td>\n",
       "      <td>\"PRINCE OBONG ELEME\"</td>\n",
       "      <td>GOOD DAY TO YOU</td>\n",
       "    </tr>\n",
       "    <tr>\n",
       "      <th>4</th>\n",
       "      <td>Dear sir, \\n \\nIt is with a heart full of hope...</td>\n",
       "      <td>1 Nov 2002</td>\n",
       "      <td>m_abacha03@www.com</td>\n",
       "      <td>m abacha</td>\n",
       "      <td>m_abacha03@www.com</td>\n",
       "      <td>\"Maryam Abacha\"</td>\n",
       "      <td>I Need Your Assistance.</td>\n",
       "    </tr>\n",
       "  </tbody>\n",
       "</table>\n",
       "</div>"
      ],
      "text/plain": [
       "                                                body         date  \\\n",
       "0  FROM:MR. JAMES NGOLA.\\nCONFIDENTIAL TEL: 233-2...  31 Oct 2002   \n",
       "1  Dear Friend,\\n\\nI am Mr. Ben Suleman a custom ...  31 Oct 2002   \n",
       "2  FROM HIS ROYAL MAJESTY (HRM) CROWN RULER OF EL...  31 Oct 2002   \n",
       "3  FROM HIS ROYAL MAJESTY (HRM) CROWN RULER OF EL...  31 Oct 2002   \n",
       "4  Dear sir, \\n \\nIt is with a heart full of hope...   1 Nov 2002   \n",
       "\n",
       "                       r_email reciever_name                  sender_email  \\\n",
       "0  james_ngola2002@maktoob.com   james ngola   james_ngola2002@maktoob.com   \n",
       "1                          R@M             R  bensul2004nng@spinfinder.com   \n",
       "2         obong_715@epatra.com         obong          obong_715@epatra.com   \n",
       "3         webmaster@aclweb.org     webmaster          obong_715@epatra.com   \n",
       "4           m_abacha03@www.com      m abacha            m_abacha03@www.com   \n",
       "\n",
       "            sender_name                                     subject  \n",
       "0    \"MR. JAMES NGOLA.\"  URGENT BUSINESS ASSISTANCE AND PARTNERSHIP  \n",
       "1     \"Mr. Ben Suleman\"         URGENT ASSISTANCE /RELATIONSHIP (P)  \n",
       "2  \"PRINCE OBONG ELEME\"                             GOOD DAY TO YOU  \n",
       "3  \"PRINCE OBONG ELEME\"                             GOOD DAY TO YOU  \n",
       "4       \"Maryam Abacha\"                     I Need Your Assistance.  "
      ]
     },
     "execution_count": 161,
     "metadata": {},
     "output_type": "execute_result"
    }
   ],
   "source": [
    "# concatenating into dataframe\n",
    "emails_data=pd.DataFrame(emails)\n",
    "emails_data.head()"
   ]
  },
  {
   "cell_type": "code",
   "execution_count": 165,
   "metadata": {},
   "outputs": [
    {
     "data": {
      "text/html": [
       "<div>\n",
       "<style scoped>\n",
       "    .dataframe tbody tr th:only-of-type {\n",
       "        vertical-align: middle;\n",
       "    }\n",
       "\n",
       "    .dataframe tbody tr th {\n",
       "        vertical-align: top;\n",
       "    }\n",
       "\n",
       "    .dataframe thead th {\n",
       "        text-align: right;\n",
       "    }\n",
       "</style>\n",
       "<table border=\"1\" class=\"dataframe\">\n",
       "  <thead>\n",
       "    <tr style=\"text-align: right;\">\n",
       "      <th></th>\n",
       "      <th>body</th>\n",
       "      <th>date</th>\n",
       "      <th>r_email</th>\n",
       "      <th>reciever_name</th>\n",
       "      <th>sender_email</th>\n",
       "      <th>sender_name</th>\n",
       "      <th>subject</th>\n",
       "    </tr>\n",
       "  </thead>\n",
       "  <tbody>\n",
       "    <tr>\n",
       "      <th>0</th>\n",
       "      <td>FROM:MR. JAMES NGOLA.\\nCONFIDENTIAL TEL: 233-2...</td>\n",
       "      <td>31 Oct 2002</td>\n",
       "      <td>james_ngola2002@maktoob.com</td>\n",
       "      <td>james ngola</td>\n",
       "      <td>james_ngola2002@maktoob.com</td>\n",
       "      <td>\"MR. JAMES NGOLA.\"</td>\n",
       "      <td>URGENT BUSINESS ASSISTANCE AND PARTNERSHIP</td>\n",
       "    </tr>\n",
       "    <tr>\n",
       "      <th>1</th>\n",
       "      <td>Dear Friend,\\n\\nI am Mr. Ben Suleman a custom ...</td>\n",
       "      <td>31 Oct 2002</td>\n",
       "      <td>R@M</td>\n",
       "      <td>R</td>\n",
       "      <td>bensul2004nng@spinfinder.com</td>\n",
       "      <td>\"Mr. Ben Suleman\"</td>\n",
       "      <td>URGENT ASSISTANCE /RELATIONSHIP (P)</td>\n",
       "    </tr>\n",
       "  </tbody>\n",
       "</table>\n",
       "</div>"
      ],
      "text/plain": [
       "                                                body         date  \\\n",
       "0  FROM:MR. JAMES NGOLA.\\nCONFIDENTIAL TEL: 233-2...  31 Oct 2002   \n",
       "1  Dear Friend,\\n\\nI am Mr. Ben Suleman a custom ...  31 Oct 2002   \n",
       "\n",
       "                       r_email reciever_name                  sender_email  \\\n",
       "0  james_ngola2002@maktoob.com   james ngola   james_ngola2002@maktoob.com   \n",
       "1                          R@M             R  bensul2004nng@spinfinder.com   \n",
       "\n",
       "          sender_name                                     subject  \n",
       "0  \"MR. JAMES NGOLA.\"  URGENT BUSINESS ASSISTANCE AND PARTNERSHIP  \n",
       "1   \"Mr. Ben Suleman\"         URGENT ASSISTANCE /RELATIONSHIP (P)  "
      ]
     },
     "execution_count": 165,
     "metadata": {},
     "output_type": "execute_result"
    }
   ],
   "source": [
    "# using | operator to find sender domain \n",
    "emails_data[emails_data.sender_email.str.contains('maktoob|spinfinder')]"
   ]
  },
  {
   "cell_type": "code",
   "execution_count": 190,
   "metadata": {},
   "outputs": [
    {
     "data": {
      "text/html": [
       "<div>\n",
       "<style scoped>\n",
       "    .dataframe tbody tr th:only-of-type {\n",
       "        vertical-align: middle;\n",
       "    }\n",
       "\n",
       "    .dataframe tbody tr th {\n",
       "        vertical-align: top;\n",
       "    }\n",
       "\n",
       "    .dataframe thead th {\n",
       "        text-align: right;\n",
       "    }\n",
       "</style>\n",
       "<table border=\"1\" class=\"dataframe\">\n",
       "  <thead>\n",
       "    <tr style=\"text-align: right;\">\n",
       "      <th></th>\n",
       "      <th>body</th>\n",
       "      <th>date</th>\n",
       "      <th>r_email</th>\n",
       "      <th>reciever_name</th>\n",
       "      <th>sender_email</th>\n",
       "      <th>sender_name</th>\n",
       "      <th>subject</th>\n",
       "    </tr>\n",
       "  </thead>\n",
       "  <tbody>\n",
       "    <tr>\n",
       "      <th>0</th>\n",
       "      <td>FROM:MR. JAMES NGOLA.\\nCONFIDENTIAL TEL: 233-2...</td>\n",
       "      <td>31 Oct 2002</td>\n",
       "      <td>james_ngola2002@maktoob.com</td>\n",
       "      <td>james ngola</td>\n",
       "      <td>james_ngola2002@maktoob.com</td>\n",
       "      <td>\"MR. JAMES NGOLA.\"</td>\n",
       "      <td>URGENT BUSINESS ASSISTANCE AND PARTNERSHIP</td>\n",
       "    </tr>\n",
       "  </tbody>\n",
       "</table>\n",
       "</div>"
      ],
      "text/plain": [
       "                                                body         date  \\\n",
       "0  FROM:MR. JAMES NGOLA.\\nCONFIDENTIAL TEL: 233-2...  31 Oct 2002   \n",
       "\n",
       "                       r_email reciever_name                 sender_email  \\\n",
       "0  james_ngola2002@maktoob.com   james ngola  james_ngola2002@maktoob.com   \n",
       "\n",
       "          sender_name                                     subject  \n",
       "0  \"MR. JAMES NGOLA.\"  URGENT BUSINESS ASSISTANCE AND PARTNERSHIP  "
      ]
     },
     "execution_count": 190,
     "metadata": {},
     "output_type": "execute_result"
    }
   ],
   "source": [
    "# using regex for the same\n",
    "emails_data[emails_data.sender_email.str.contains(r\"\\w\\S*@maktoob.com\")]"
   ]
  }
 ],
 "metadata": {
  "kernelspec": {
   "display_name": "Python 3",
   "language": "python",
   "name": "python3"
  },
  "language_info": {
   "codemirror_mode": {
    "name": "ipython",
    "version": 3
   },
   "file_extension": ".py",
   "mimetype": "text/x-python",
   "name": "python",
   "nbconvert_exporter": "python",
   "pygments_lexer": "ipython3",
   "version": "3.7.0"
  }
 },
 "nbformat": 4,
 "nbformat_minor": 2
}
